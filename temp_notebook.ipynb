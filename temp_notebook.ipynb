{
 "cells": [
  {
   "cell_type": "markdown",
   "id": "78ee9fd2",
   "metadata": {},
   "source": [
    "# Início do Portfólio - Kaggle Housing Prices"
   ]
  },
  {
   "cell_type": "markdown",
   "id": "771b87ee",
   "metadata": {},
   "source": [
    "## Descrição do Projeto\n",
    "\n",
    "Este é o início do meu portfólio de projetos de Data Science e Análise Exploratória de Dados (EDA). Neste projeto inicial, estou explorando o conjunto de dados do Kaggle sobre preços de habitação. O objetivo é realizar uma análise aprofundada dos dados, identificar padrões e tendências, e preparar os dados para futuras etapas de modelagem preditiva.\n"
   ]
  },
  {
   "cell_type": "markdown",
   "id": "58c2628d",
   "metadata": {},
   "source": [
    "## Passos Realizados\n",
    "\n",
    "- **Análise Exploratória de Dados (EDA):**\n",
    "  - Carregamento dos dados do Kaggle.\n",
    "  - Exploração inicial das características do conjunto de treino e teste.\n",
    "  - Visualização da distribuição dos preços das casas.\n",
    "  - Identificação e tratamento de dados faltantes.\n",
    "  - Engenharia de recursos para melhorar a qualidade dos dados.\n",
    "\n",
    "- **Próximos Passos:**\n",
    "  - Explorar correlações entre variáveis.\n",
    "  - Aplicar técnicas avançadas de visualização.\n",
    "  - Continuar a limpeza e preparação de dados.\n",
    "\n",
    "Fique à vontade para acompanhar o desenvolvimento do projeto e explorar os próximos passos. Se tiver feedback ou sugestões, sinta-se à vontade para contribuir!\n",
    "\n",
    "---\n",
    "\n",
    "**Nota:** Este projeto faz parte do meu aprendizado em Data Science e é um trabalho em andamento. As conclusões finais serão apresentadas à medida que o projeto avança."
   ]
  },
  {
   "cell_type": "markdown",
   "id": "fadcac8b",
   "metadata": {},
   "source": [
    "   **Configuração do Projeto:**\n",
    "  - Criação do repositório no GitHub.\n",
    "  - Clonagem do repositório no ambiente local."
   ]
  },
  {
   "cell_type": "code",
   "execution_count": 26,
   "id": "6da71ec2",
   "metadata": {},
   "outputs": [],
   "source": [
    "# O módulo os em Python fornece funcionalidades para interagir com o sistema operacional, permitindo operações como manipulação\n",
    "#de diretórios, execução de comandos do sistema e acesso a variáveis de ambiente.\n",
    "import os"
   ]
  },
  {
   "cell_type": "code",
   "execution_count": 27,
   "id": "1e97299e",
   "metadata": {},
   "outputs": [
    {
     "name": "stdout",
     "output_type": "stream",
     "text": [
      "git version 2.43.0.windows.1\n"
     ]
    }
   ],
   "source": [
    "# Verificando a versão\n",
    "!git --version"
   ]
  },
  {
   "cell_type": "code",
   "execution_count": 5,
   "id": "f563d01e",
   "metadata": {},
   "outputs": [
    {
     "name": "stderr",
     "output_type": "stream",
     "text": [
      "Cloning into 'Kaggle_Housing_Prices'...\n"
     ]
    }
   ],
   "source": [
    "# Clonando um repositório Git criando uma cópia local de um repositório remoto\n",
    "!git clone https://github.com/luizcloud/Kaggle_Housing_Prices"
   ]
  },
  {
   "cell_type": "code",
   "execution_count": 28,
   "id": "ad3cfce0",
   "metadata": {},
   "outputs": [
    {
     "name": "stdout",
     "output_type": "stream",
     "text": [
      "[WinError 2] O sistema não pode encontrar o arquivo especificado: 'Kaggle_Housing_Prices'\n",
      "C:\\Users\\Luiz Felix\\Documents\\Portfolio\\Kaggle_Housing_Prices\n"
     ]
    }
   ],
   "source": [
    "# Verificação do local de salvamento\n",
    "%cd Kaggle_Housing_Prices"
   ]
  },
  {
   "cell_type": "code",
   "execution_count": 29,
   "id": "d2d42ea0",
   "metadata": {},
   "outputs": [
    {
     "data": {
      "text/plain": [
       "CompletedProcess(args=['git', '--version'], returncode=0)"
      ]
     },
     "execution_count": 29,
     "metadata": {},
     "output_type": "execute_result"
    }
   ],
   "source": [
    "import subprocess\n",
    "subprocess.run(['git', '--version'], check=True, text=True)"
   ]
  },
  {
   "cell_type": "code",
   "execution_count": 30,
   "id": "47a65658",
   "metadata": {},
   "outputs": [
    {
     "name": "stdout",
     "output_type": "stream",
     "text": [
      "C:\\Users\\Luiz Felix\\Documents\\Portfolio\\Kaggle_Housing_Prices\n"
     ]
    }
   ],
   "source": [
    "import os\n",
    "print(os.getcwd())"
   ]
  },
  {
   "cell_type": "code",
   "execution_count": 31,
   "id": "5eee078b",
   "metadata": {},
   "outputs": [
    {
     "name": "stdout",
     "output_type": "stream",
     "text": [
      "On branch main\n",
      "Your branch is up to date with 'origin/main'.\n",
      "\n",
      "nothing to commit, working tree clean\n"
     ]
    }
   ],
   "source": [
    "!git status"
   ]
  },
  {
   "cell_type": "code",
   "execution_count": 32,
   "id": "583287c5",
   "metadata": {},
   "outputs": [
    {
     "name": "stdout",
     "output_type": "stream",
     "text": [
      "On branch main\n",
      "Your branch is up to date with 'origin/main'.\n",
      "\n",
      "nothing to commit, working tree clean\n"
     ]
    }
   ],
   "source": [
    "!git add .\n",
    "!git commit -m \"Sua mensagem de commit\""
   ]
  },
  {
   "cell_type": "code",
   "execution_count": 33,
   "id": "e9a1d619",
   "metadata": {},
   "outputs": [
    {
     "name": "stdout",
     "output_type": "stream",
     "text": [
      "commit 590677bb93645cf1695c8b7a553b8d919f578339\n",
      "Author: LuizFelix <122308527+luizcloud@users.noreply.github.com>\n",
      "Date:   Thu Dec 14 13:11:03 2023 +0000\n",
      "\n",
      "    Initial commit\n"
     ]
    }
   ],
   "source": [
    "!git log\n"
   ]
  },
  {
   "cell_type": "code",
   "execution_count": 34,
   "id": "af54abcd",
   "metadata": {},
   "outputs": [
    {
     "name": "stdout",
     "output_type": "stream",
     "text": [
      "Already up to date.\n"
     ]
    },
    {
     "name": "stderr",
     "output_type": "stream",
     "text": [
      "From https://github.com/luizcloud/Kaggle_Housing_Prices\n",
      " * branch            main       -> FETCH_HEAD\n"
     ]
    }
   ],
   "source": [
    "!git pull origin main"
   ]
  },
  {
   "cell_type": "code",
   "execution_count": 35,
   "id": "b54b63e9",
   "metadata": {},
   "outputs": [
    {
     "name": "stdout",
     "output_type": "stream",
     "text": [
      "On branch main\n",
      "Your branch is up to date with 'origin/main'.\n",
      "\n",
      "nothing to commit, working tree clean\n"
     ]
    }
   ],
   "source": [
    "!git status\n"
   ]
  },
  {
   "cell_type": "code",
   "execution_count": 36,
   "id": "5aa0b56a",
   "metadata": {},
   "outputs": [
    {
     "name": "stderr",
     "output_type": "stream",
     "text": [
      "Everything up-to-date\n"
     ]
    }
   ],
   "source": [
    "!git push origin main\n"
   ]
  },
  {
   "cell_type": "code",
   "execution_count": null,
   "id": "5332c2ec",
   "metadata": {},
   "outputs": [],
   "source": []
  }
 ],
 "metadata": {
  "kernelspec": {
   "display_name": "Python 3 (ipykernel)",
   "language": "python",
   "name": "python3"
  },
  "language_info": {
   "codemirror_mode": {
    "name": "ipython",
    "version": 3
   },
   "file_extension": ".py",
   "mimetype": "text/x-python",
   "name": "python",
   "nbconvert_exporter": "python",
   "pygments_lexer": "ipython3",
   "version": "3.11.5"
  }
 },
 "nbformat": 4,
 "nbformat_minor": 5
}
